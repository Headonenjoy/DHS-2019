{
 "cells": [
  {
   "cell_type": "markdown",
   "metadata": {
    "slideshow": {
     "slide_type": "slide"
    }
   },
   "source": [
    "# Feature Engineering"
   ]
  },
  {
   "cell_type": "code",
   "execution_count": 11,
   "metadata": {},
   "outputs": [
    {
     "data": {
      "text/html": [
       "<div>\n",
       "<style scoped>\n",
       "    .dataframe tbody tr th:only-of-type {\n",
       "        vertical-align: middle;\n",
       "    }\n",
       "\n",
       "    .dataframe tbody tr th {\n",
       "        vertical-align: top;\n",
       "    }\n",
       "\n",
       "    .dataframe thead th {\n",
       "        text-align: right;\n",
       "    }\n",
       "</style>\n",
       "<table border=\"1\" class=\"dataframe\">\n",
       "  <thead>\n",
       "    <tr style=\"text-align: right;\">\n",
       "      <th></th>\n",
       "      <th>0</th>\n",
       "    </tr>\n",
       "  </thead>\n",
       "  <tbody>\n",
       "    <tr>\n",
       "      <th>0</th>\n",
       "      <td>rustler soya less</td>\n",
       "    </tr>\n",
       "    <tr>\n",
       "      <th>1</th>\n",
       "      <td>pine nuts less sesame</td>\n",
       "    </tr>\n",
       "  </tbody>\n",
       "</table>\n",
       "</div>"
      ],
      "text/plain": [
       "                       0\n",
       "0      rustler soya less\n",
       "1  pine nuts less sesame"
      ]
     },
     "execution_count": 11,
     "metadata": {},
     "output_type": "execute_result"
    }
   ],
   "source": [
    "import pandas as pd\n",
    "query = pd.read_csv(\"/Users/sks000y/Desktop/DHS/nutrition-data/testa.words.txt\", header=None)\n",
    "query.head(2)"
   ]
  },
  {
   "cell_type": "code",
   "execution_count": null,
   "metadata": {},
   "outputs": [],
   "source": [
    "labels = pd.read_csv(\"/Users/sks000y/Desktop/DHS/nutrition-data/testa.tags.txt\", header=None)\n",
    "labels.head(2)"
   ]
  },
  {
   "cell_type": "code",
   "execution_count": 6,
   "metadata": {
    "slideshow": {
     "slide_type": "slide"
    }
   },
   "outputs": [
    {
     "name": "stdout",
     "output_type": "stream",
     "text": [
      "Build vocab words (may take a while)\n",
      "- done. Kept 4504 out of 4505\n",
      "Build vocab chars\n",
      "- done. Found 49 chars\n",
      "Build vocab tags (may take a while)\n",
      "- done. Found 5 tags.\n"
     ]
    }
   ],
   "source": [
    "# Creating and segmeting the datasets\n",
    "\n",
    "from collections import Counter\n",
    "from pathlib import Path\n",
    "\n",
    "MINCOUNT = 2\n",
    "rel_path = \"/Users/sks000y/Desktop/DHS/nutrition-data/\"\n",
    "\n",
    "if __name__ == '__main__':\n",
    "    # 1. Words\n",
    "    # Get Counter of words on all the data, filter by min count, save\n",
    "    def words(name):\n",
    "        return rel_path+'{}.words.txt'.format(name)\n",
    "\n",
    "    print('Build vocab words (may take a while)')\n",
    "    counter_words = Counter()\n",
    "    for n in ['train', 'testa', 'testb']:\n",
    "        with Path(words(n)).open() as f:\n",
    "            for line in f:\n",
    "                counter_words.update(line.strip().split())\n",
    "\n",
    "    vocab_words = {w for w, c in counter_words.items() if c >= MINCOUNT}\n",
    "\n",
    "    with Path(rel_path+'vocab.words.txt').open('w') as f:\n",
    "        for w in sorted(list(vocab_words)):\n",
    "            f.write('{}\\n'.format(w))\n",
    "    print('- done. Kept {} out of {}'.format(len(vocab_words), len(counter_words)))\n",
    "\n",
    "    # 2. Chars\n",
    "    # Get all the characters from the vocab words\n",
    "    print('Build vocab chars')\n",
    "    vocab_chars = set()\n",
    "    for w in vocab_words:\n",
    "        vocab_chars.update(w)\n",
    "\n",
    "    with Path(rel_path+'vocab.chars.txt').open('w') as f:\n",
    "        for c in sorted(list(vocab_chars)):\n",
    "            f.write('{}\\n'.format(c))\n",
    "    print('- done. Found {} chars'.format(len(vocab_chars)))\n",
    "\n",
    "    # 3. Tags\n",
    "    # Get all tags from the training set\n",
    "\n",
    "    def tags(name):\n",
    "        return rel_path+'{}.tags.txt'.format(name)\n",
    "\n",
    "    print('Build vocab tags (may take a while)')\n",
    "    vocab_tags = set()\n",
    "    with Path(tags('train')).open() as f:\n",
    "        for line in f:\n",
    "            vocab_tags.update(line.strip().split())\n",
    "\n",
    "    with Path(rel_path+'vocab.tags.txt').open('w') as f:\n",
    "        for t in sorted(list(vocab_tags)):\n",
    "            f.write('{}\\n'.format(t))\n",
    "    print('- done. Found {} tags.'.format(len(vocab_tags)))"
   ]
  },
  {
   "cell_type": "markdown",
   "metadata": {
    "slideshow": {
     "slide_type": "slide"
    }
   },
   "source": [
    "## Generating Glove Embedding"
   ]
  },
  {
   "attachments": {
    "image.png": {
     "image/png": "[encoded data removed]"
    }
   },
   "cell_type": "markdown",
   "metadata": {},
   "source": [
    "<h2>Global Vectors for Word Representation</h2>\n",
    "\n",
    "#### <ul> Pre-trained word vector: \n",
    "<li>Wikipedia 2014 + Gigaword 5 (6B tokens, 400K vocab, uncased, 50d, 100d, 200d, & 300d vectors, 822 MB download): glove.6B.zip </li>\n",
    "<li>Common Crawl (42B tokens, 1.9M vocab, uncased, 300d vectors, 1.75 GB download): glove.42B.300d.zip</li>\n",
    "<b><li>Common Crawl (840B tokens, 2.2M vocab, cased, 300d vectors, 2.03 GB download): glove.840B.300d.zip</li></b>\n",
    "<li>Twitter (2B tweets, 27B tokens, 1.2M vocab, uncased, 25d, 50d, 100d, & 200d vectors, 1.42 GB download): glove.twitter.27B.zip </li>\n",
    "    </ul>\n",
    "\n",
    "![image.png](attachment:image.png)"
   ]
  },
  {
   "cell_type": "code",
   "execution_count": 8,
   "metadata": {
    "slideshow": {
     "slide_type": "slide"
    }
   },
   "outputs": [
    {
     "name": "stdout",
     "output_type": "stream",
     "text": [
      "Reading GloVe file (may take a while)\n",
      "- At line 0\n",
      "- At line 100000\n",
      "- At line 200000\n",
      "- At line 300000\n",
      "- At line 400000\n",
      "- At line 500000\n",
      "- At line 600000\n",
      "- At line 700000\n",
      "- At line 800000\n",
      "- At line 900000\n",
      "- At line 1000000\n",
      "- At line 1100000\n",
      "- At line 1200000\n",
      "- At line 1300000\n",
      "- At line 1400000\n",
      "- At line 1500000\n",
      "- At line 1600000\n",
      "- At line 1700000\n",
      "- At line 1800000\n",
      "- At line 1900000\n",
      "- At line 2000000\n",
      "- At line 2100000\n",
      "- done. Found 3795 vectors for 4504 words\n"
     ]
    }
   ],
   "source": [
    "#Creating glove\n",
    "\n",
    "\"\"\"Build an np.array from some glove file and some vocab file\n",
    "You need to download `glove.840B.300d.txt` from\n",
    "https://nlp.stanford.edu/projects/glove/ and you need to have built\n",
    "your vocabulary first (Maybe using `build_vocab.py`)\n",
    "\"\"\"\n",
    "\n",
    "\n",
    "from pathlib import Path\n",
    "\n",
    "import numpy as np\n",
    "\n",
    "rel_path = \"/Users/sks000y/Desktop/DHS/nutrition-data/\"\n",
    "glove_path = \"/anaconda2/envs/NER/ner/GloVe-1.2/\"\n",
    "\n",
    "if __name__ == '__main__':\n",
    "    # Load vocab\n",
    "    with Path(rel_path+'vocab.words.txt').open() as f:\n",
    "        word_to_idx = {line.strip(): idx for idx, line in enumerate(f)}\n",
    "    size_vocab = len(word_to_idx)\n",
    "\n",
    "    # Array of zeros\n",
    "    embeddings = np.zeros((size_vocab, 300))\n",
    "\n",
    "    # Get relevant glove vectors\n",
    "    found = 0\n",
    "    print('Reading GloVe file (may take a while)')\n",
    "    with Path(glove_path+'glove.840B.300d.txt').open() as f:\n",
    "        for line_idx, line in enumerate(f):\n",
    "            if line_idx % 100000 == 0:\n",
    "                print('- At line {}'.format(line_idx))\n",
    "            line = line.strip().split()\n",
    "            if len(line) != 300 + 1:\n",
    "                continue\n",
    "            word = line[0]\n",
    "            embedding = line[1:]\n",
    "            if word in word_to_idx:\n",
    "                found += 1\n",
    "                word_idx = word_to_idx[word]\n",
    "                embeddings[word_idx] = embedding\n",
    "    print('- done. Found {} vectors for {} words'.format(found, size_vocab))\n",
    "\n",
    "    # Save np.array to file\n",
    "    #np.savez_compressed(re_path+'glove.npz', embeddings=embeddings)"
   ]
  },
  {
   "cell_type": "code",
   "execution_count": 9,
   "metadata": {
    "slideshow": {
     "slide_type": "slide"
    }
   },
   "outputs": [],
   "source": [
    "# Save np.array to file\n",
    "np.savez_compressed(rel_path+'glove.npz', embeddings=embeddings)"
   ]
  },
  {
   "cell_type": "markdown",
   "metadata": {
    "slideshow": {
     "slide_type": "slide"
    }
   },
   "source": [
    "# Modelling"
   ]
  },
  {
   "cell_type": "code",
   "execution_count": 55,
   "metadata": {
    "slideshow": {
     "slide_type": "subslide"
    }
   },
   "outputs": [],
   "source": [
    "import tensorflow as tf\n",
    "import functools\n",
    "import json\n",
    "import logging\n",
    "from pathlib import Path\n",
    "import sys\n",
    "import io\n",
    "\n",
    "import numpy as np\n",
    "import tensorflow as tf\n",
    "from tensorflow import metrics\n",
    "\n",
    "DATADIR = '/Users/sks000y/Desktop/DHS/nutrition-data/'\n",
    "\n",
    "# Logging\n",
    "Path('results3').mkdir(exist_ok=True)\n",
    "tf.logging.set_verbosity(logging.INFO)\n",
    "handlers = [\n",
    "    logging.FileHandler('results3/main.log'),\n",
    "    logging.StreamHandler(sys.stdout)\n",
    "]\n",
    "logging.getLogger('tensorflow').handlers = handlers\n",
    "\n",
    "import unicodedata\n",
    "\n",
    "def strip_accents(text):\n",
    "    \"\"\"\n",
    "    Strip accents from input String.\n",
    "\n",
    "    :param text: The input string.\n",
    "    :type text: String.\n",
    "\n",
    "    :returns: The processed String.\n",
    "    :rtype: String.\n",
    "    \"\"\"\n",
    "    try:\n",
    "        text = unicode(text, 'utf-8')\n",
    "    except (TypeError, NameError): # unicode is a default on python 3 \n",
    "        pass\n",
    "    text = unicodedata.normalize('NFD', text)\n",
    "    text = text.encode('ascii', 'ignore')\n",
    "    text = text.decode(\"utf-8\")\n",
    "    return str(text)\n",
    "\n",
    "def parse_fn(line_words, line_tags):\n",
    "    # Encode in Bytes for TF\n",
    "    words = [w.encode() for w in line_words.strip().split()]\n",
    "    tags = [t.encode() for t in line_tags.strip().split()]\n",
    "    assert len(words) == len(tags), \"Words and tags lengths don't match\"\n",
    "\n",
    "    # Chars\n",
    "    chars = [[c.encode() for c in w] for w in line_words.strip().split()]\n",
    "    lengths = [len(c) for c in chars]\n",
    "    max_len = max(lengths)\n",
    "    chars = [c + [b'<pad>'] * (max_len - l) for c, l in zip(chars, lengths)]\n",
    "    return ((words, len(words)), (chars, lengths)), tags\n",
    "\n",
    "\n",
    "def generator_fn(words, tags):\n",
    "    with Path(words).open('r') as f_words, Path(tags).open('r') as f_tags:\n",
    "        for line_words, line_tags in zip(f_words, f_tags):\n",
    "            yield parse_fn(strip_accents(line_words), strip_accents(line_tags))\n",
    "\n",
    "\n",
    "def input_fn(words, tags, params=None, shuffle_and_repeat=False):\n",
    "    params = params if params is not None else {}\n",
    "    shapes = ((([None], ()),               # (words, nwords)\n",
    "               ([None, None], [None])),    # (chars, nchars)\n",
    "              [None])                      # tags\n",
    "    types = (((tf.string, tf.int32),\n",
    "              (tf.string, tf.int32)),\n",
    "             tf.string)\n",
    "    defaults = ((('<pad>', 0),\n",
    "                 ('<pad>', 0)),\n",
    "                'O')\n",
    "    dataset = tf.data.Dataset.from_generator(\n",
    "        functools.partial(generator_fn, words, tags),\n",
    "        output_shapes=shapes, output_types=types)\n",
    "\n",
    "    if shuffle_and_repeat:\n",
    "        dataset = dataset.shuffle(params['buffer']).repeat(params['epochs'])\n",
    "\n",
    "    dataset = (dataset\n",
    "               .padded_batch(params.get('batch_size', 2500), shapes, defaults)\n",
    "               .prefetch(1))\n",
    "    return dataset"
   ]
  },
  {
   "cell_type": "markdown",
   "metadata": {
    "slideshow": {
     "slide_type": "slide"
    }
   },
   "source": [
    "<h2>Tensorflow Estimator API </h2><h3> using custom Estimators and Tensorflow tf.data have been used for writing the code of all the training, modeling and evaluation.<br><br>\n",
    "    \n",
    "<li>Custom Estimator in Tensorflow has tf.estimator.Estimator class which wraps a model which is specified by a model_fnand tf.estimator.train_and_evaluate utility function which trains, evaluates, and (optionally) exports the model by using the given estimator.</li></h3>"
   ]
  },
  {
   "cell_type": "code",
   "execution_count": 56,
   "metadata": {
    "slideshow": {
     "slide_type": "subslide"
    }
   },
   "outputs": [],
   "source": [
    "def model_fn(features, labels, mode, params):\n",
    "    # Read vocabs and inputs\n",
    "    \n",
    "    if isinstance(features, dict):\n",
    "        features = ((features['words'], features['nwords']),\n",
    "                    (features['chars'], features['nchars']))\n",
    "    # Read vocabs and inputs\n",
    "    dropout = params['dropout']\n",
    "    (words, nwords), (chars, nchars) = features\n",
    "    \n",
    "    #Check whether training mode so as to make dropout activate/deactivate\n",
    "    training = (mode == tf.estimator.ModeKeys.TRAIN)\n",
    "    \n",
    "    \n",
    "    vocab_words = tf.contrib.lookup.index_table_from_file(\n",
    "        params['words'], num_oov_buckets=params['num_oov_buckets'])\n",
    "    vocab_chars = tf.contrib.lookup.index_table_from_file(\n",
    "        params['chars'], num_oov_buckets=params['num_oov_buckets'])\n",
    "    \n",
    "    with Path(params['tags']).open() as f:\n",
    "        indices = [idx for idx, tag in enumerate(f) if tag.strip() != 'O']\n",
    "        num_tags = len(indices) + 1\n",
    "    with Path(params['chars']).open() as f:\n",
    "        num_chars = sum(1 for _ in f) + params['num_oov_buckets']\n",
    "\n",
    "    # Char Embeddings\n",
    "    \n",
    "    #For each sentence and words, we have a list of characters\n",
    "    #We find the index of character present in the dictionary of all characters\n",
    "    char_ids = vocab_chars.lookup(chars)  #[sentence, words, chars] \n",
    "    \n",
    "    #Initialize a variable [total_number_of_chars, dimension of char_embedding=100] \n",
    "    #storing the initial embedding of all characters with some random floating point numbers\n",
    "    variable = tf.get_variable(\n",
    "        'chars_embeddings', [num_chars, params['dim_chars']], tf.float32)\n",
    "    \n",
    "    #Lookup the embeddings of the chars in char_ids \n",
    "    char_embeddings = tf.nn.embedding_lookup(variable, char_ids) #[sentence, word, chars, char_dim=100]\n",
    "    \n",
    "    char_embeddings = tf.layers.dropout(char_embeddings, rate=dropout,\n",
    "                                        training=training)\n",
    "\n",
    "    # Char LSTM\n",
    "    \n",
    "    #[max_length of sentences in batch]\n",
    "    dim_words = tf.shape(char_embeddings)[1]\n",
    "    #[max_length of words in all the sentences]\n",
    "    dim_chars = tf.shape(char_embeddings)[2]\n",
    "    \n",
    "    #[sentence*max_words_in_sentence ,max_chars_in_all_words, char_dim=100]\n",
    "    flat = tf.reshape(char_embeddings, [-1, dim_chars, params['dim_chars']]) \n",
    "    #making time major from batch major as required by tf.contrib.rnnt = \n",
    "    t = tf.transpose(flat, perm=[1, 0, 2])\n",
    "    \n",
    "    #Initializing LSTM each having 25 units\n",
    "    lstm_cell_fw = tf.contrib.rnn.LSTMBlockFusedCell(params['char_lstm_size'])\n",
    "    lstm_cell_bw = tf.contrib.rnn.LSTMBlockFusedCell(params['char_lstm_size'])\n",
    "    \n",
    "    #Creating backward dir LSTM\n",
    "    lstm_cell_bw = tf.contrib.rnn.TimeReversedFusedRNN(lstm_cell_bw)\n",
    "    \n",
    "    #output having dim [max_chars_in_all_words, sentence*max_words_in_sentence, char_embd_size=25]\n",
    "    #Here time_steps i.e.[sequence_length] = number of chars in each words\n",
    "    _, (_, output_fw) = lstm_cell_fw(t, dtype=tf.float32,\n",
    "                                     sequence_length=tf.reshape(nchars, [-1]))\n",
    "    \n",
    "    #Reverse Bi-LSTM output\n",
    "    _, (_, output_bw) = lstm_cell_bw(t, dtype=tf.float32,\n",
    "                                     sequence_length=tf.reshape(nchars, [-1]))\n",
    "    \n",
    "    #[max_chars_in_all_words, sentence*max_words_in_sentence, char_embd_size=25+25=50]\n",
    "    output = tf.concat([output_fw, output_bw], axis=-1)\n",
    "    \n",
    "    #Reshape to [num_of_sentences, max_num_of_words, 50]\n",
    "    char_embeddings = tf.reshape(output, [-1, dim_words, 50])\n",
    "    \n",
    "    \n",
    "\n",
    "    # Word Embeddings\n",
    "    \n",
    "    #For each sentence, we have a list of words\n",
    "    #We find the index of words present in the dictionary of all words\n",
    "    word_ids = vocab_words.lookup(words) #[sentence, words]\n",
    "    \n",
    "    #Getting the glove embeddings of all the words\n",
    "    glove = np.load(params['glove'])['embeddings']  # np.array\n",
    "    \n",
    "    #Appending an extra embeddings to return if some word is not found\n",
    "    variable = np.vstack([glove, [[0.] * params['dim']]])\n",
    "    variable = tf.Variable(variable, dtype=tf.float32, trainable=False)\n",
    "    #Look up the word embeddings in the dictionary we created as non-trainable\n",
    "    word_embeddings = tf.nn.embedding_lookup(variable, word_ids, validate_indices=False)\n",
    "\n",
    "    # Concatenate Word and Char Embeddings\n",
    "    embeddings = tf.concat([word_embeddings, char_embeddings], axis=-1)\n",
    "    embeddings = tf.layers.dropout(embeddings, rate=dropout, training=training)\n",
    "\n",
    "    \n",
    "    \n",
    "    # LSTM\n",
    "    \n",
    "    #Time major, input shape= [sentences, words, 350]\n",
    "    t = tf.transpose(embeddings, perm=[1, 0, 2])  # Need time-major\n",
    "    #Forward and Backward lstm each of 100 units\n",
    "    lstm_cell_fw = tf.contrib.rnn.LSTMBlockFusedCell(params['lstm_size'])\n",
    "    lstm_cell_bw = tf.contrib.rnn.LSTMBlockFusedCell(params['lstm_size'])\n",
    "    lstm_cell_bw = tf.contrib.rnn.TimeReversedFusedRNN(lstm_cell_bw)\n",
    "    \n",
    "    # time steps i.e. [sequence_length] having number of words in each sentence\n",
    "    output_fw, _ = lstm_cell_fw(t, dtype=tf.float32, sequence_length=nwords) #[sentence, words, 100]\n",
    "    output_bw, _ = lstm_cell_bw(t, dtype=tf.float32, sequence_length=nwords) #[sentence, words, 100]\n",
    "    \n",
    "    # Concatenate the both forward and backword encoding \n",
    "    output = tf.concat([output_fw, output_bw], axis=-1) #[sentence, words, 100+100=200]\n",
    "    output = tf.transpose(output, perm=[1, 0, 2]) #transponse to original shape\n",
    "    output = tf.layers.dropout(output, rate=dropout, training=training)\n",
    "\n",
    "    #Create a dense layer to reduce the output to num of tags\n",
    "    logits = tf.layers.dense(output, num_tags) # [sentence, word, num_of_tag=6]\n",
    "    \n",
    "    #CRF\n",
    "    \n",
    "    #Create a variable and initialize as a transition score from one tags to another tags\n",
    "    #in determining the score of a particular combination of tags\n",
    "    crf_params = tf.get_variable(\"crf\", [num_tags, num_tags], dtype=tf.float32)\n",
    "    \n",
    "    # determining the tags for each sentence # [sentence, no_of_tags]\n",
    "    pred_ids, _ = tf.contrib.crf.crf_decode(logits, crf_params, nwords)\n",
    "\n",
    "    if mode == tf.estimator.ModeKeys.PREDICT:\n",
    "        # Predictions\n",
    "        reverse_vocab_tags = tf.contrib.lookup.index_to_string_table_from_file(\n",
    "            params['tags'])\n",
    "        pred_strings = reverse_vocab_tags.lookup(tf.to_int64(pred_ids))\n",
    "        predictions = {\n",
    "            'pred_ids': pred_ids,\n",
    "            'tags': pred_strings\n",
    "        }\n",
    "        return tf.estimator.EstimatorSpec(mode, predictions=predictions)\n",
    "    else:\n",
    "        # Loss\n",
    "        vocab_tags = tf.contrib.lookup.index_table_from_file(params['tags'],default_value=0)\n",
    "        tags = vocab_tags.lookup(labels)\n",
    "        log_likelihood, _ = tf.contrib.crf.crf_log_likelihood(\n",
    "            logits, tags, nwords, crf_params)\n",
    "        loss = tf.reduce_mean(-log_likelihood)\n",
    "\n",
    "        # Metrics\n",
    "        weights = tf.sequence_mask(nwords)\n",
    "        metrics = {\n",
    "            'acc': tf.metrics.accuracy(tags, pred_ids, weights)\n",
    "        }\n",
    "        for metric_name, op in metrics.items():\n",
    "            tf.summary.scalar(metric_name, op[1])\n",
    "\n",
    "        if mode == tf.estimator.ModeKeys.EVAL:\n",
    "            return tf.estimator.EstimatorSpec(\n",
    "                mode, loss=loss, eval_metric_ops=metrics)\n",
    "\n",
    "        elif mode == tf.estimator.ModeKeys.TRAIN:\n",
    "            train_op = tf.train.AdamOptimizer().minimize(\n",
    "                loss, global_step=tf.train.get_or_create_global_step())\n",
    "            return tf.estimator.EstimatorSpec(\n",
    "                mode, loss=loss, train_op=train_op)\n"
   ]
  },
  {
   "cell_type": "code",
   "execution_count": 57,
   "metadata": {
    "slideshow": {
     "slide_type": "subslide"
    }
   },
   "outputs": [
    {
     "name": "stdout",
     "output_type": "stream",
     "text": [
      "Using config: {'_model_dir': '/Users/sks000y/Desktop/DHS/nutrition-data/results3/model', '_tf_random_seed': None, '_save_summary_steps': 100, '_save_checkpoints_steps': None, '_save_checkpoints_secs': 120, '_session_config': allow_soft_placement: true\n",
      "graph_options {\n",
      "  rewrite_options {\n",
      "    meta_optimizer_iterations: ONE\n",
      "  }\n",
      "}\n",
      ", '_keep_checkpoint_max': 5, '_keep_checkpoint_every_n_hours': 10000, '_log_step_count_steps': 100, '_train_distribute': None, '_device_fn': None, '_protocol': None, '_eval_distribute': None, '_experimental_distribute': None, '_experimental_max_worker_delay_secs': None, '_service': None, '_cluster_spec': <tensorflow.python.training.server_lib.ClusterSpec object at 0x14a4543c8>, '_task_type': 'worker', '_task_id': 0, '_global_id_in_cluster': 0, '_master': '', '_evaluation_master': '', '_is_chief': True, '_num_ps_replicas': 0, '_num_worker_replicas': 1}\n"
     ]
    },
    {
     "name": "stderr",
     "output_type": "stream",
     "text": [
      "I1007 13:27:56.570362 4614768064 estimator.py:209] Using config: {'_model_dir': '/Users/sks000y/Desktop/DHS/nutrition-data/results3/model', '_tf_random_seed': None, '_save_summary_steps': 100, '_save_checkpoints_steps': None, '_save_checkpoints_secs': 120, '_session_config': allow_soft_placement: true\n",
      "graph_options {\n",
      "  rewrite_options {\n",
      "    meta_optimizer_iterations: ONE\n",
      "  }\n",
      "}\n",
      ", '_keep_checkpoint_max': 5, '_keep_checkpoint_every_n_hours': 10000, '_log_step_count_steps': 100, '_train_distribute': None, '_device_fn': None, '_protocol': None, '_eval_distribute': None, '_experimental_distribute': None, '_experimental_max_worker_delay_secs': None, '_service': None, '_cluster_spec': <tensorflow.python.training.server_lib.ClusterSpec object at 0x14a4543c8>, '_task_type': 'worker', '_task_id': 0, '_global_id_in_cluster': 0, '_master': '', '_evaluation_master': '', '_is_chief': True, '_num_ps_replicas': 0, '_num_worker_replicas': 1}\n"
     ]
    },
    {
     "name": "stdout",
     "output_type": "stream",
     "text": [
      "Not using Distribute Coordinator.\n"
     ]
    },
    {
     "name": "stderr",
     "output_type": "stream",
     "text": [
      "I1007 13:27:56.572524 4614768064 estimator_training.py:186] Not using Distribute Coordinator.\n"
     ]
    },
    {
     "name": "stdout",
     "output_type": "stream",
     "text": [
      "Running training and evaluation locally (non-distributed).\n"
     ]
    },
    {
     "name": "stderr",
     "output_type": "stream",
     "text": [
      "I1007 13:27:56.573843 4614768064 training.py:612] Running training and evaluation locally (non-distributed).\n"
     ]
    },
    {
     "name": "stdout",
     "output_type": "stream",
     "text": [
      "Start train and evaluate loop. The evaluate will happen after every checkpoint. Checkpoint frequency is determined based on RunConfig arguments: save_checkpoints_steps None or save_checkpoints_secs 120.\n"
     ]
    },
    {
     "name": "stderr",
     "output_type": "stream",
     "text": [
      "I1007 13:27:56.575311 4614768064 training.py:700] Start train and evaluate loop. The evaluate will happen after every checkpoint. Checkpoint frequency is determined based on RunConfig arguments: save_checkpoints_steps None or save_checkpoints_secs 120.\n"
     ]
    },
    {
     "name": "stdout",
     "output_type": "stream",
     "text": [
      "Calling model_fn.\n"
     ]
    },
    {
     "name": "stderr",
     "output_type": "stream",
     "text": [
      "I1007 13:27:56.626874 4614768064 estimator.py:1145] Calling model_fn.\n"
     ]
    },
    {
     "name": "stdout",
     "output_type": "stream",
     "text": [
      "Done calling model_fn.\n"
     ]
    },
    {
     "name": "stderr",
     "output_type": "stream",
     "text": [
      "I1007 13:27:58.744024 4614768064 estimator.py:1147] Done calling model_fn.\n"
     ]
    },
    {
     "name": "stdout",
     "output_type": "stream",
     "text": [
      "Create CheckpointSaverHook.\n"
     ]
    },
    {
     "name": "stderr",
     "output_type": "stream",
     "text": [
      "I1007 13:27:58.746921 4614768064 basic_session_run_hooks.py:541] Create CheckpointSaverHook.\n"
     ]
    },
    {
     "name": "stdout",
     "output_type": "stream",
     "text": [
      "Graph was finalized.\n"
     ]
    },
    {
     "name": "stderr",
     "output_type": "stream",
     "text": [
      "I1007 13:27:58.880584 4614768064 monitored_session.py:240] Graph was finalized.\n"
     ]
    },
    {
     "name": "stdout",
     "output_type": "stream",
     "text": [
      "Restoring parameters from /Users/sks000y/Desktop/DHS/nutrition-data/results3/model/model.ckpt-862\n"
     ]
    },
    {
     "name": "stderr",
     "output_type": "stream",
     "text": [
      "I1007 13:27:58.884063 4614768064 saver.py:1280] Restoring parameters from /Users/sks000y/Desktop/DHS/nutrition-data/results3/model/model.ckpt-862\n"
     ]
    },
    {
     "name": "stdout",
     "output_type": "stream",
     "text": [
      "Running local_init_op.\n"
     ]
    },
    {
     "name": "stderr",
     "output_type": "stream",
     "text": [
      "I1007 13:27:59.072805 4614768064 session_manager.py:500] Running local_init_op.\n"
     ]
    },
    {
     "name": "stdout",
     "output_type": "stream",
     "text": [
      "Done running local_init_op.\n"
     ]
    },
    {
     "name": "stderr",
     "output_type": "stream",
     "text": [
      "I1007 13:27:59.117530 4614768064 session_manager.py:502] Done running local_init_op.\n"
     ]
    },
    {
     "name": "stdout",
     "output_type": "stream",
     "text": [
      "Saving checkpoints for 862 into /Users/sks000y/Desktop/DHS/nutrition-data/results3/model/model.ckpt.\n"
     ]
    },
    {
     "name": "stderr",
     "output_type": "stream",
     "text": [
      "I1007 13:28:01.216736 4614768064 basic_session_run_hooks.py:606] Saving checkpoints for 862 into /Users/sks000y/Desktop/DHS/nutrition-data/results3/model/model.ckpt.\n"
     ]
    },
    {
     "name": "stdout",
     "output_type": "stream",
     "text": [
      "loss = 0.017627865, step = 863\n"
     ]
    },
    {
     "name": "stderr",
     "output_type": "stream",
     "text": [
      "I1007 13:28:04.919068 4614768064 basic_session_run_hooks.py:262] loss = 0.017627865, step = 863\n"
     ]
    },
    {
     "name": "stdout",
     "output_type": "stream",
     "text": [
      "global_step/sec: 2.55166\n"
     ]
    },
    {
     "name": "stderr",
     "output_type": "stream",
     "text": [
      "I1007 13:28:44.108973 4614768064 basic_session_run_hooks.py:692] global_step/sec: 2.55166\n"
     ]
    },
    {
     "name": "stdout",
     "output_type": "stream",
     "text": [
      "loss = 0.019387666, step = 963 (39.191 sec)\n"
     ]
    },
    {
     "name": "stderr",
     "output_type": "stream",
     "text": [
      "I1007 13:28:44.110518 4614768064 basic_session_run_hooks.py:260] loss = 0.019387666, step = 963 (39.191 sec)\n"
     ]
    },
    {
     "name": "stdout",
     "output_type": "stream",
     "text": [
      "global_step/sec: 2.44516\n"
     ]
    },
    {
     "name": "stderr",
     "output_type": "stream",
     "text": [
      "I1007 13:29:25.006165 4614768064 basic_session_run_hooks.py:692] global_step/sec: 2.44516\n"
     ]
    },
    {
     "name": "stdout",
     "output_type": "stream",
     "text": [
      "loss = 0.006845953, step = 1063 (40.897 sec)\n"
     ]
    },
    {
     "name": "stderr",
     "output_type": "stream",
     "text": [
      "I1007 13:29:25.007909 4614768064 basic_session_run_hooks.py:260] loss = 0.006845953, step = 1063 (40.897 sec)\n"
     ]
    },
    {
     "name": "stdout",
     "output_type": "stream",
     "text": [
      "Saving checkpoints for 1102 into /Users/sks000y/Desktop/DHS/nutrition-data/results3/model/model.ckpt.\n"
     ]
    },
    {
     "name": "stderr",
     "output_type": "stream",
     "text": [
      "I1007 13:29:42.429743 4614768064 basic_session_run_hooks.py:606] Saving checkpoints for 1102 into /Users/sks000y/Desktop/DHS/nutrition-data/results3/model/model.ckpt.\n"
     ]
    },
    {
     "name": "stdout",
     "output_type": "stream",
     "text": [
      "Calling model_fn.\n"
     ]
    },
    {
     "name": "stderr",
     "output_type": "stream",
     "text": [
      "I1007 13:29:42.781968 4614768064 estimator.py:1145] Calling model_fn.\n"
     ]
    },
    {
     "name": "stdout",
     "output_type": "stream",
     "text": [
      "Done calling model_fn.\n"
     ]
    },
    {
     "name": "stderr",
     "output_type": "stream",
     "text": [
      "I1007 13:29:43.720898 4614768064 estimator.py:1147] Done calling model_fn.\n"
     ]
    },
    {
     "name": "stdout",
     "output_type": "stream",
     "text": [
      "Starting evaluation at 2019-10-07T13:29:43Z\n"
     ]
    },
    {
     "name": "stderr",
     "output_type": "stream",
     "text": [
      "I1007 13:29:43.748197 4614768064 evaluation.py:255] Starting evaluation at 2019-10-07T13:29:43Z\n"
     ]
    },
    {
     "name": "stdout",
     "output_type": "stream",
     "text": [
      "Graph was finalized.\n"
     ]
    },
    {
     "name": "stderr",
     "output_type": "stream",
     "text": [
      "I1007 13:29:44.042522 4614768064 monitored_session.py:240] Graph was finalized.\n"
     ]
    },
    {
     "name": "stdout",
     "output_type": "stream",
     "text": [
      "Restoring parameters from /Users/sks000y/Desktop/DHS/nutrition-data/results3/model/model.ckpt-1102\n"
     ]
    },
    {
     "name": "stderr",
     "output_type": "stream",
     "text": [
      "I1007 13:29:44.046168 4614768064 saver.py:1280] Restoring parameters from /Users/sks000y/Desktop/DHS/nutrition-data/results3/model/model.ckpt-1102\n"
     ]
    },
    {
     "name": "stdout",
     "output_type": "stream",
     "text": [
      "Running local_init_op.\n"
     ]
    },
    {
     "name": "stderr",
     "output_type": "stream",
     "text": [
      "I1007 13:29:44.148252 4614768064 session_manager.py:500] Running local_init_op.\n"
     ]
    },
    {
     "name": "stdout",
     "output_type": "stream",
     "text": [
      "Done running local_init_op.\n"
     ]
    },
    {
     "name": "stderr",
     "output_type": "stream",
     "text": [
      "I1007 13:29:44.180175 4614768064 session_manager.py:502] Done running local_init_op.\n"
     ]
    },
    {
     "name": "stdout",
     "output_type": "stream",
     "text": [
      "Evaluation [10/100]\n"
     ]
    },
    {
     "name": "stderr",
     "output_type": "stream",
     "text": [
      "I1007 13:29:46.417123 4614768064 evaluation.py:167] Evaluation [10/100]\n"
     ]
    },
    {
     "name": "stdout",
     "output_type": "stream",
     "text": [
      "Evaluation [20/100]\n"
     ]
    },
    {
     "name": "stderr",
     "output_type": "stream",
     "text": [
      "I1007 13:29:48.296336 4614768064 evaluation.py:167] Evaluation [20/100]\n"
     ]
    },
    {
     "name": "stdout",
     "output_type": "stream",
     "text": [
      "Evaluation [30/100]\n"
     ]
    },
    {
     "name": "stderr",
     "output_type": "stream",
     "text": [
      "I1007 13:29:50.119359 4614768064 evaluation.py:167] Evaluation [30/100]\n"
     ]
    },
    {
     "name": "stdout",
     "output_type": "stream",
     "text": [
      "Evaluation [40/100]\n"
     ]
    },
    {
     "name": "stderr",
     "output_type": "stream",
     "text": [
      "I1007 13:29:51.897351 4614768064 evaluation.py:167] Evaluation [40/100]\n"
     ]
    },
    {
     "name": "stdout",
     "output_type": "stream",
     "text": [
      "Finished evaluation at 2019-10-07-13:29:51\n"
     ]
    },
    {
     "name": "stderr",
     "output_type": "stream",
     "text": [
      "I1007 13:29:51.952627 4614768064 evaluation.py:275] Finished evaluation at 2019-10-07-13:29:51\n"
     ]
    },
    {
     "name": "stdout",
     "output_type": "stream",
     "text": [
      "Saving dict for global step 1102: acc = 0.99987864, global_step = 1102, loss = 0.0018811794\n"
     ]
    },
    {
     "name": "stderr",
     "output_type": "stream",
     "text": [
      "I1007 13:29:51.954382 4614768064 estimator.py:2039] Saving dict for global step 1102: acc = 0.99987864, global_step = 1102, loss = 0.0018811794\n"
     ]
    },
    {
     "name": "stdout",
     "output_type": "stream",
     "text": [
      "Saving 'checkpoint_path' summary for global step 1102: /Users/sks000y/Desktop/DHS/nutrition-data/results3/model/model.ckpt-1102\n"
     ]
    },
    {
     "name": "stderr",
     "output_type": "stream",
     "text": [
      "I1007 13:29:51.956799 4614768064 estimator.py:2099] Saving 'checkpoint_path' summary for global step 1102: /Users/sks000y/Desktop/DHS/nutrition-data/results3/model/model.ckpt-1102\n"
     ]
    },
    {
     "name": "stdout",
     "output_type": "stream",
     "text": [
      "Loss for final step: 0.013478433.\n"
     ]
    },
    {
     "name": "stderr",
     "output_type": "stream",
     "text": [
      "I1007 13:29:51.993923 4614768064 estimator.py:368] Loss for final step: 0.013478433.\n"
     ]
    }
   ],
   "source": [
    "if __name__ == '__main__':\n",
    "    # Params\n",
    "    params = {\n",
    "        'dim': 300,\n",
    "        'dim_chars': 100,\n",
    "        'dropout': 0.5,\n",
    "        'num_oov_buckets': 1,\n",
    "        'epochs': 1,\n",
    "        'batch_size': 500,\n",
    "        'buffer': 15000,\n",
    "        'char_lstm_size': 25,\n",
    "        'lstm_size': 100,\n",
    "        'words': str(Path(DATADIR, 'vocab.words.txt')),\n",
    "        'chars': str(Path(DATADIR, 'vocab.chars.txt')),\n",
    "        'tags': str(Path(DATADIR, 'vocab.tags.txt')),\n",
    "        'glove': str(Path(DATADIR, 'glove.npz'))\n",
    "    }\n",
    "    with io.open(\"results3/params.json\",'w',encoding=\"utf-8\") as outfile:\n",
    "        outfile.write(json.dumps(params, ensure_ascii=False))\n",
    "\n",
    "    def fwords(name):\n",
    "        return str(Path(DATADIR, '{}.words.txt'.format(name)))\n",
    "\n",
    "    def ftags(name):\n",
    "        return str(Path(DATADIR, '{}.tags.txt'.format(name)))\n",
    "\n",
    "    # Estimator, train and evaluate\n",
    "    train_inpf = functools.partial(input_fn, fwords('train'), ftags('train'),\n",
    "                                   params, shuffle_and_repeat=True)\n",
    "    eval_inpf = functools.partial(input_fn, fwords('testa'), ftags('testa'))\n",
    "\n",
    "    cfg = tf.estimator.RunConfig(save_checkpoints_secs=120)\n",
    "    #ws = tf.estimator.WarmStartSettings(ckpt_to_initialize_from='/content/results3/model')\n",
    "    estimator = tf.estimator.Estimator(model_fn, DATADIR+'results3/model', cfg, params)\n",
    "    Path(estimator.eval_dir()).mkdir(parents=True, exist_ok=True)\n",
    "   # hook = tf.contrib.estimator.stop_if_no_increase_hook(\n",
    "   #     estimator, 'acc', 500, min_steps=2000, run_every_secs=120)\n",
    "    train_spec = tf.estimator.TrainSpec(input_fn=train_inpf)\n",
    "    eval_spec = tf.estimator.EvalSpec(input_fn=eval_inpf, throttle_secs=120)\n",
    "    tf.estimator.train_and_evaluate(estimator, train_spec, eval_spec)\n"
   ]
  },
  {
   "attachments": {
    "image.png": {
     "image/png": "[encoded data removed]"
    }
   },
   "cell_type": "markdown",
   "metadata": {},
   "source": [
    "![image.png](attachment:image.png)"
   ]
  },
  {
   "cell_type": "markdown",
   "metadata": {
    "slideshow": {
     "slide_type": "slide"
    }
   },
   "source": [
    "# Prediction"
   ]
  },
  {
   "cell_type": "code",
   "execution_count": 36,
   "metadata": {
    "slideshow": {
     "slide_type": "subslide"
    }
   },
   "outputs": [],
   "source": [
    "def parse_fn_loc(line_words, line_tags):\n",
    "   # Encode in Bytes for TF\n",
    "    words = [w.encode() for w in line_words.strip().split()]\n",
    "    tags = [t.encode() for t in line_tags.strip().split()]\n",
    "    assert len(words) == len(tags), \"Words and tags lengths don't match\"\n",
    "\n",
    "    # Chars\n",
    "    chars = [[c.encode() for c in w] for w in line_words.strip().split()]\n",
    "    lengths = [len(c) for c in chars]\n",
    "    max_len = max(lengths)\n",
    "    chars = [c + [b'<pad>'] * (max_len - l) for c, l in zip(chars, lengths)]\n",
    "    yield ((words, len(words)), (chars, lengths)), tags    \n",
    "\n",
    "def input_fn_loc(words, tags, params=None):\n",
    "    params = params if params is not None else {}\n",
    "    shapes = ((([None], ()),               # (words, nwords)\n",
    "               ([None, None], [None])),    # (chars, nchars)\n",
    "              [None])                      # tags\n",
    "    types = (((tf.string, tf.int32),\n",
    "              (tf.string, tf.int32)),\n",
    "             tf.string)\n",
    "    defaults = ((('<pad>', 0),\n",
    "                 ('<pad>', 0)),\n",
    "                'O')\n",
    "    dataset = tf.data.Dataset.from_generator(\n",
    "        functools.partial(parse_fn_loc, words, tags),\n",
    "        output_shapes=shapes, output_types=types)\n",
    "\n",
    "    dataset = (dataset\n",
    "               .padded_batch(params.get('batch_size', 2500), shapes, defaults)\n",
    "               .prefetch(1))\n",
    "    return dataset"
   ]
  },
  {
   "cell_type": "code",
   "execution_count": 69,
   "metadata": {
    "slideshow": {
     "slide_type": "subslide"
    }
   },
   "outputs": [],
   "source": [
    "import functools\n",
    "test_inpf = functools.partial(input_fn_loc, \"gluten free bread\", \"O O O\")"
   ]
  },
  {
   "cell_type": "code",
   "execution_count": 70,
   "metadata": {
    "slideshow": {
     "slide_type": "subslide"
    }
   },
   "outputs": [
    {
     "name": "stdout",
     "output_type": "stream",
     "text": [
      "Using default config.\n"
     ]
    },
    {
     "name": "stderr",
     "output_type": "stream",
     "text": [
      "I1007 13:42:29.540175 4614768064 estimator.py:1790] Using default config.\n"
     ]
    },
    {
     "name": "stdout",
     "output_type": "stream",
     "text": [
      "Using config: {'_model_dir': '/Users/sks000y/Desktop/DHS/nutrition-data/results3/model', '_tf_random_seed': None, '_save_summary_steps': 100, '_save_checkpoints_steps': None, '_save_checkpoints_secs': 600, '_session_config': allow_soft_placement: true\n",
      "graph_options {\n",
      "  rewrite_options {\n",
      "    meta_optimizer_iterations: ONE\n",
      "  }\n",
      "}\n",
      ", '_keep_checkpoint_max': 5, '_keep_checkpoint_every_n_hours': 10000, '_log_step_count_steps': 100, '_train_distribute': None, '_device_fn': None, '_protocol': None, '_eval_distribute': None, '_experimental_distribute': None, '_experimental_max_worker_delay_secs': None, '_service': None, '_cluster_spec': <tensorflow.python.training.server_lib.ClusterSpec object at 0x13f55bf28>, '_task_type': 'worker', '_task_id': 0, '_global_id_in_cluster': 0, '_master': '', '_evaluation_master': '', '_is_chief': True, '_num_ps_replicas': 0, '_num_worker_replicas': 1}\n"
     ]
    },
    {
     "name": "stderr",
     "output_type": "stream",
     "text": [
      "I1007 13:42:29.542147 4614768064 estimator.py:209] Using config: {'_model_dir': '/Users/sks000y/Desktop/DHS/nutrition-data/results3/model', '_tf_random_seed': None, '_save_summary_steps': 100, '_save_checkpoints_steps': None, '_save_checkpoints_secs': 600, '_session_config': allow_soft_placement: true\n",
      "graph_options {\n",
      "  rewrite_options {\n",
      "    meta_optimizer_iterations: ONE\n",
      "  }\n",
      "}\n",
      ", '_keep_checkpoint_max': 5, '_keep_checkpoint_every_n_hours': 10000, '_log_step_count_steps': 100, '_train_distribute': None, '_device_fn': None, '_protocol': None, '_eval_distribute': None, '_experimental_distribute': None, '_experimental_max_worker_delay_secs': None, '_service': None, '_cluster_spec': <tensorflow.python.training.server_lib.ClusterSpec object at 0x13f55bf28>, '_task_type': 'worker', '_task_id': 0, '_global_id_in_cluster': 0, '_master': '', '_evaluation_master': '', '_is_chief': True, '_num_ps_replicas': 0, '_num_worker_replicas': 1}\n"
     ]
    }
   ],
   "source": [
    "ws=tf.estimator.WarmStartSettings(ckpt_to_initialize_from=DATADIR+'results3/model')\n",
    "estimator = tf.estimator.Estimator(model_fn, DATADIR+'results3/model', None, params,warm_start_from=ws)\n",
    "preds_gen = estimator.predict(test_inpf)"
   ]
  },
  {
   "cell_type": "code",
   "execution_count": 71,
   "metadata": {
    "slideshow": {
     "slide_type": "subslide"
    }
   },
   "outputs": [
    {
     "name": "stdout",
     "output_type": "stream",
     "text": [
      "Calling model_fn.\n"
     ]
    },
    {
     "name": "stderr",
     "output_type": "stream",
     "text": [
      "I1007 13:42:31.671561 4614768064 estimator.py:1145] Calling model_fn.\n"
     ]
    },
    {
     "name": "stdout",
     "output_type": "stream",
     "text": [
      "Done calling model_fn.\n"
     ]
    },
    {
     "name": "stderr",
     "output_type": "stream",
     "text": [
      "I1007 13:42:32.235394 4614768064 estimator.py:1147] Done calling model_fn.\n"
     ]
    },
    {
     "name": "stdout",
     "output_type": "stream",
     "text": [
      "Graph was finalized.\n"
     ]
    },
    {
     "name": "stderr",
     "output_type": "stream",
     "text": [
      "I1007 13:42:32.312917 4614768064 monitored_session.py:240] Graph was finalized.\n"
     ]
    },
    {
     "name": "stdout",
     "output_type": "stream",
     "text": [
      "Restoring parameters from /Users/sks000y/Desktop/DHS/nutrition-data/results3/model/model.ckpt-1102\n"
     ]
    },
    {
     "name": "stderr",
     "output_type": "stream",
     "text": [
      "I1007 13:42:32.315630 4614768064 saver.py:1280] Restoring parameters from /Users/sks000y/Desktop/DHS/nutrition-data/results3/model/model.ckpt-1102\n"
     ]
    },
    {
     "name": "stdout",
     "output_type": "stream",
     "text": [
      "Running local_init_op.\n"
     ]
    },
    {
     "name": "stderr",
     "output_type": "stream",
     "text": [
      "I1007 13:42:32.391998 4614768064 session_manager.py:500] Running local_init_op.\n"
     ]
    },
    {
     "name": "stdout",
     "output_type": "stream",
     "text": [
      "Done running local_init_op.\n"
     ]
    },
    {
     "name": "stderr",
     "output_type": "stream",
     "text": [
      "I1007 13:42:32.411287 4614768064 session_manager.py:502] Done running local_init_op.\n"
     ]
    },
    {
     "data": {
      "text/plain": [
       "{'pred_ids': array([4, 1, 3], dtype=int32),\n",
       " 'tags': array([b'NV-S', b'AD-S', b'BQ-S'], dtype=object)}"
      ]
     },
     "execution_count": 71,
     "metadata": {},
     "output_type": "execute_result"
    }
   ],
   "source": [
    "next(preds_gen)"
   ]
  },
  {
   "cell_type": "code",
   "execution_count": null,
   "metadata": {},
   "outputs": [],
   "source": []
  },
  {
   "cell_type": "markdown",
   "metadata": {
    "slideshow": {
     "slide_type": "slide"
    }
   },
   "source": [
    "# Make it to Production"
   ]
  },
  {
   "cell_type": "code",
   "execution_count": 58,
   "metadata": {
    "slideshow": {
     "slide_type": "subslide"
    }
   },
   "outputs": [],
   "source": [
    "def serving_input_receiver_fn():\n",
    "    \"\"\"Serving input_fn that builds features from placeholders\n",
    "    Returns\n",
    "    -------\n",
    "    tf.estimator.export.ServingInputReceiver\n",
    "    \"\"\"\n",
    "    words = tf.placeholder(dtype=tf.string, shape=[None, None], name='words')\n",
    "    nwords = tf.placeholder(dtype=tf.int32, shape=[None], name='nwords')\n",
    "    chars = tf.placeholder(dtype=tf.string, shape=[None, None, None],\n",
    "                           name='chars')\n",
    "    nchars = tf.placeholder(dtype=tf.int32, shape=[None, None],\n",
    "                            name='nchars')\n",
    "    receiver_tensors = {'words': words, 'nwords': nwords,\n",
    "                        'chars': chars, 'nchars': nchars}\n",
    "    features = {'words': words, 'nwords': nwords,\n",
    "                'chars': chars, 'nchars': nchars}\n",
    "    return tf.estimator.export.ServingInputReceiver(features, receiver_tensors)\n"
   ]
  },
  {
   "cell_type": "code",
   "execution_count": 59,
   "metadata": {
    "slideshow": {
     "slide_type": "subslide"
    }
   },
   "outputs": [
    {
     "name": "stdout",
     "output_type": "stream",
     "text": [
      "Calling model_fn.\n"
     ]
    },
    {
     "name": "stderr",
     "output_type": "stream",
     "text": [
      "I1007 13:32:02.590480 4614768064 estimator.py:1145] Calling model_fn.\n"
     ]
    },
    {
     "name": "stdout",
     "output_type": "stream",
     "text": [
      "Done calling model_fn.\n"
     ]
    },
    {
     "name": "stderr",
     "output_type": "stream",
     "text": [
      "I1007 13:32:03.120929 4614768064 estimator.py:1147] Done calling model_fn.\n"
     ]
    },
    {
     "name": "stdout",
     "output_type": "stream",
     "text": [
      "From /anaconda2/envs/oop_python3/lib/python3.7/site-packages/tensorflow/python/saved_model/signature_def_utils_impl.py:201: build_tensor_info (from tensorflow.python.saved_model.utils_impl) is deprecated and will be removed in a future version.\n",
      "Instructions for updating:\n",
      "This function will only be available through the v1 compatibility library as tf.compat.v1.saved_model.utils.build_tensor_info or tf.compat.v1.saved_model.build_tensor_info.\n"
     ]
    },
    {
     "name": "stderr",
     "output_type": "stream",
     "text": [
      "W1007 13:32:03.122552 4614768064 deprecation.py:323] From /anaconda2/envs/oop_python3/lib/python3.7/site-packages/tensorflow/python/saved_model/signature_def_utils_impl.py:201: build_tensor_info (from tensorflow.python.saved_model.utils_impl) is deprecated and will be removed in a future version.\n",
      "Instructions for updating:\n",
      "This function will only be available through the v1 compatibility library as tf.compat.v1.saved_model.utils.build_tensor_info or tf.compat.v1.saved_model.build_tensor_info.\n"
     ]
    },
    {
     "name": "stdout",
     "output_type": "stream",
     "text": [
      "Signatures INCLUDED in export for Classify: None\n"
     ]
    },
    {
     "name": "stderr",
     "output_type": "stream",
     "text": [
      "I1007 13:32:03.124125 4614768064 export_utils.py:170] Signatures INCLUDED in export for Classify: None\n"
     ]
    },
    {
     "name": "stdout",
     "output_type": "stream",
     "text": [
      "Signatures INCLUDED in export for Regress: None\n"
     ]
    },
    {
     "name": "stderr",
     "output_type": "stream",
     "text": [
      "I1007 13:32:03.125573 4614768064 export_utils.py:170] Signatures INCLUDED in export for Regress: None\n"
     ]
    },
    {
     "name": "stdout",
     "output_type": "stream",
     "text": [
      "Signatures INCLUDED in export for Predict: ['serving_default']\n"
     ]
    },
    {
     "name": "stderr",
     "output_type": "stream",
     "text": [
      "I1007 13:32:03.126736 4614768064 export_utils.py:170] Signatures INCLUDED in export for Predict: ['serving_default']\n"
     ]
    },
    {
     "name": "stdout",
     "output_type": "stream",
     "text": [
      "Signatures INCLUDED in export for Train: None\n"
     ]
    },
    {
     "name": "stderr",
     "output_type": "stream",
     "text": [
      "I1007 13:32:03.128243 4614768064 export_utils.py:170] Signatures INCLUDED in export for Train: None\n"
     ]
    },
    {
     "name": "stdout",
     "output_type": "stream",
     "text": [
      "Signatures INCLUDED in export for Eval: None\n"
     ]
    },
    {
     "name": "stderr",
     "output_type": "stream",
     "text": [
      "I1007 13:32:03.129336 4614768064 export_utils.py:170] Signatures INCLUDED in export for Eval: None\n"
     ]
    },
    {
     "name": "stdout",
     "output_type": "stream",
     "text": [
      "Restoring parameters from /Users/sks000y/Desktop/DHS/nutrition-data/results3/model/model.ckpt-1102\n"
     ]
    },
    {
     "name": "stderr",
     "output_type": "stream",
     "text": [
      "I1007 13:32:03.156321 4614768064 saver.py:1280] Restoring parameters from /Users/sks000y/Desktop/DHS/nutrition-data/results3/model/model.ckpt-1102\n"
     ]
    },
    {
     "name": "stdout",
     "output_type": "stream",
     "text": [
      "Assets added to graph.\n"
     ]
    },
    {
     "name": "stderr",
     "output_type": "stream",
     "text": [
      "I1007 13:32:03.198863 4614768064 builder_impl.py:661] Assets added to graph.\n"
     ]
    },
    {
     "name": "stdout",
     "output_type": "stream",
     "text": [
      "Assets written to: /Users/sks000y/Desktop/DHS/nutrition-data/tf-serving-ner/model/temp-b'1570435322'/assets\n"
     ]
    },
    {
     "name": "stderr",
     "output_type": "stream",
     "text": [
      "I1007 13:32:03.201336 4614768064 builder_impl.py:770] Assets written to: /Users/sks000y/Desktop/DHS/nutrition-data/tf-serving-ner/model/temp-b'1570435322'/assets\n"
     ]
    },
    {
     "name": "stdout",
     "output_type": "stream",
     "text": [
      "SavedModel written to: /Users/sks000y/Desktop/DHS/nutrition-data/tf-serving-ner/model/temp-b'1570435322'/saved_model.pb\n"
     ]
    },
    {
     "name": "stderr",
     "output_type": "stream",
     "text": [
      "I1007 13:32:03.387214 4614768064 builder_impl.py:421] SavedModel written to: /Users/sks000y/Desktop/DHS/nutrition-data/tf-serving-ner/model/temp-b'1570435322'/saved_model.pb\n"
     ]
    },
    {
     "data": {
      "text/plain": [
       "b'/Users/sks000y/Desktop/DHS/nutrition-data/tf-serving-ner/model/1570435322'"
      ]
     },
     "execution_count": 59,
     "metadata": {},
     "output_type": "execute_result"
    }
   ],
   "source": [
    "estimator.export_savedmodel(DATADIR+'tf-serving-ner/model', serving_input_receiver_fn)"
   ]
  },
  {
   "cell_type": "code",
   "execution_count": 73,
   "metadata": {
    "slideshow": {
     "slide_type": "subslide"
    }
   },
   "outputs": [
    {
     "name": "stdout",
     "output_type": "stream",
     "text": [
      "Restoring parameters from /Users/sks000y/Desktop/DHS/nutrition-data/tf-serving-ner/model/1570435322/variables/variables\n"
     ]
    },
    {
     "name": "stderr",
     "output_type": "stream",
     "text": [
      "I1007 13:43:00.437886 4614768064 saver.py:1280] Restoring parameters from /Users/sks000y/Desktop/DHS/nutrition-data/tf-serving-ner/model/1570435322/variables/variables\n"
     ]
    },
    {
     "name": "stdout",
     "output_type": "stream",
     "text": [
      "{'pred_ids': array([[4, 1, 3]], dtype=int32), 'tags': array([[b'NV-S', b'AD-S', b'BQ-S']], dtype=object)}\n"
     ]
    }
   ],
   "source": [
    "def parse_fn_pred(line):\n",
    "    # Encode in Bytes for TF\n",
    "    words = [w.encode() for w in line.strip().split()]\n",
    "\n",
    "    # Chars\n",
    "    chars = [[c.encode() for c in w] for w in line.strip().split()]\n",
    "    lengths = [len(c) for c in chars]\n",
    "    max_len = max(lengths)\n",
    "    chars = [c + [b'<pad>'] * (max_len - l) for c, l in zip(chars, lengths)]\n",
    "\n",
    "    return {'words': [words], 'nwords': [len(words)],\n",
    "            'chars': [chars], 'nchars': [lengths]}\n",
    "\n",
    "from tensorflow.contrib import predictor\n",
    "predict_fn = predictor.from_saved_model('/Users/sks000y/Desktop/DHS/nutrition-data/tf-serving-ner/model/1570435322')\n",
    "predictions = predict_fn(parse_fn_pred(\"gluten free bread\"))\n",
    "print(predictions)"
   ]
  },
  {
   "cell_type": "markdown",
   "metadata": {},
   "source": [
    "# Tensorflow Serving\n",
    "\n",
    "## TensorFlow Serving is a flexible, high-performance serving system for machine learning models, designed for production environments.\n",
    "\n",
    "### Checkpoints capture the exact value of all parameters (tf.Variable objects) used by a model. Checkpoints do not contain any description of the computation defined by the model and thus are typically only useful when source code that will use the saved parameter values is available."
   ]
  },
  {
   "cell_type": "markdown",
   "metadata": {},
   "source": [
    "### Download the TensorFlow Serving Docker image\n",
    "docker pull tensorflow/serving\n",
    "\n",
    "### Start TensorFlow Serving container and open the REST API port\n",
    "docker run -t --rm -p 8501:8501 \\\n",
    "    -v \"dir/model_name:/models/model_name\" \\\n",
    "    -e MODEL_NAME=model_name \\\n",
    "    tensorflow/serving &\n",
    "\n",
    "### Query the model using the predict API\n",
    "curl -d '{\"instances\": [1.0, 2.0, 5.0]}' \\\n",
    "    -X POST http://localhost:8501/v1/models/model_name:predict\n",
    "\n",
    "### Returns => { \"predictions\": [2.5, 3.0, 4.5] }"
   ]
  },
  {
   "cell_type": "code",
   "execution_count": null,
   "metadata": {},
   "outputs": [],
   "source": []
  }
 ],
 "metadata": {
  "celltoolbar": "Slideshow",
  "kernelspec": {
   "display_name": "Python (oop_python3)",
   "language": "python",
   "name": "oop_python3"
  },
  "language_info": {
   "codemirror_mode": {
    "name": "ipython",
    "version": 3
   },
   "file_extension": ".py",
   "mimetype": "text/x-python",
   "name": "python",
   "nbconvert_exporter": "python",
   "pygments_lexer": "ipython3",
   "version": "3.7.3"
  }
 },
 "nbformat": 4,
 "nbformat_minor": 2
}
